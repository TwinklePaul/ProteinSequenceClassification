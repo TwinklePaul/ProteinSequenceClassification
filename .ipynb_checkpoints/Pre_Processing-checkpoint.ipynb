{
 "cells": [
  {
   "cell_type": "markdown",
   "id": "1f37b75d-18fd-42ad-be7a-b4149d2a4151",
   "metadata": {},
   "source": []
  },
  {
   "cell_type": "code",
   "execution_count": null,
   "id": "35776f6a-6499-408c-87ed-98a58b0c1efb",
   "metadata": {},
   "outputs": [],
   "source": [
    "import pandas as pd\n",
    "import numpy as np\n",
    "\n",
    "from sklearn.preprocessing import MinMaxScaler\n",
    "\n",
    "from sklearn.model_selection import train_test_split\n",
    "\n",
    "from sklearn import model_selection\n",
    "from sklearn.ensemble import BaggingClassifier\n",
    "from sklearn.tree import DecisionTreeClassifier\n",
    "\n",
    "from sklearn.ensemble import RandomForestClassifier\n",
    "from sklearn.model_selection import RandomizedSearchCV\n",
    "\n",
    "from sklearn.metrics import precision_score, recall_score, roc_auc_score, roc_curve\n",
    "from sklearn.metrics import confusion_matrix\n",
    "\n",
    "import itertools\n",
    "from collections import Counter\n",
    "\n",
    "import matplotlib.pyplot as plt\n",
    "import seaborn as sns"
   ]
  },
  {
   "cell_type": "code",
   "execution_count": null,
   "id": "fc351faa",
   "metadata": {},
   "outputs": [],
   "source": []
  },
  {
   "cell_type": "code",
   "execution_count": null,
   "id": "90fae4ca-e15e-4566-b27e-bf7b0acf9b09",
   "metadata": {},
   "outputs": [],
   "source": []
  },
  {
   "cell_type": "code",
   "execution_count": null,
   "id": "26185747-2395-4535-95df-58ff7d87e459",
   "metadata": {},
   "outputs": [],
   "source": [
    "amino_acids = ['A','C','D','E','F','G','H','I','K','L','M','N','P','Q','R','S','T','V','W','Y']"
   ]
  },
  {
   "cell_type": "code",
   "execution_count": null,
   "id": "808d254f-e2fd-4eee-b109-260e3468af32",
   "metadata": {},
   "outputs": [],
   "source": []
  },
  {
   "cell_type": "code",
   "execution_count": null,
   "id": "3111ba0d-542d-4120-af7d-1b8fca5ce35d",
   "metadata": {},
   "outputs": [],
   "source": []
  },
  {
   "cell_type": "code",
   "execution_count": null,
   "id": "15b267f0-4b05-42a6-84d5-72bf7ecd84a5",
   "metadata": {},
   "outputs": [],
   "source": [
    "def get_List_of_Families():\n",
    "    families = data.groupby(['family_name']).agg(['nunique']).reset_index(drop=False)\n",
    "    families.columns = ['family_name', '#sequences']\n",
    "    return families"
   ]
  },
  {
   "cell_type": "code",
   "execution_count": null,
   "id": "bae1114d-61ed-4f75-95ad-b117639aea5f",
   "metadata": {},
   "outputs": [],
   "source": []
  },
  {
   "cell_type": "code",
   "execution_count": null,
   "id": "437e1497-4c92-4dd3-9e5e-f743db1663c1",
   "metadata": {},
   "outputs": [],
   "source": [
    "count_freq = {}\n",
    "    \n",
    "for amino in amino_acids:\n",
    "    count_freq[amino] = 0\n",
    "        "
   ]
  },
  {
   "cell_type": "code",
   "execution_count": null,
   "id": "103a532b-8bb4-4400-8081-f63563be7357",
   "metadata": {},
   "outputs": [],
   "source": []
  },
  {
   "cell_type": "code",
   "execution_count": null,
   "id": "62b1b090-736c-492f-9115-56121e94d1db",
   "metadata": {},
   "outputs": [],
   "source": [
    "def get_Frequencies(sequence):\n",
    "    count_freq = {}\n",
    "    \n",
    "    for amino in amino_acids:\n",
    "        count_freq[amino] = 0\n",
    "    \n",
    "    for amino in sequence:\n",
    "        count_freq[amino] += 1\n",
    "    \n",
    "    return count_freq"
   ]
  },
  {
   "cell_type": "code",
   "execution_count": null,
   "id": "7dd525f4-8fa5-4ccd-b561-5a86ebc4d3b8",
   "metadata": {},
   "outputs": [],
   "source": []
  },
  {
   "cell_type": "code",
   "execution_count": null,
   "id": "aff850b4-e27a-47ab-ad2a-2a9a2eaf4f66",
   "metadata": {},
   "outputs": [],
   "source": [
    "data = pd.read_csv('Sequence_Data.csv')\n",
    "data.head()"
   ]
  },
  {
   "cell_type": "code",
   "execution_count": null,
   "id": "63572ce7-0e70-4d30-a730-6781cc3d1890",
   "metadata": {},
   "outputs": [],
   "source": []
  },
  {
   "cell_type": "code",
   "execution_count": null,
   "id": "83b4aa28-b60c-4739-a99c-30741a70ed2c",
   "metadata": {},
   "outputs": [],
   "source": [
    "data = data.drop(['SeqNo'], axis = 1)\n",
    "data.head()"
   ]
  },
  {
   "cell_type": "code",
   "execution_count": null,
   "id": "941ce0f3-3a6f-4cde-a22d-8cb5f271323b",
   "metadata": {},
   "outputs": [],
   "source": []
  },
  {
   "cell_type": "code",
   "execution_count": null,
   "id": "2f77d7cc-bc08-4205-a6b7-d18f0b38b9ec",
   "metadata": {},
   "outputs": [],
   "source": [
    "data.info()"
   ]
  },
  {
   "cell_type": "code",
   "execution_count": null,
   "id": "8f4c6a74-e949-4d9b-b11a-ff84be2bd368",
   "metadata": {},
   "outputs": [],
   "source": []
  },
  {
   "cell_type": "code",
   "execution_count": null,
   "id": "0699c8bf-14b9-4ddc-826e-659be0ae6f7f",
   "metadata": {},
   "outputs": [],
   "source": [
    "get_List_of_Families()"
   ]
  },
  {
   "cell_type": "code",
   "execution_count": null,
   "id": "06b84fc4-8941-4b0a-badb-bbd960cece6c",
   "metadata": {},
   "outputs": [],
   "source": []
  },
  {
   "cell_type": "code",
   "execution_count": null,
   "id": "ec56aada-c149-40c7-a9e5-c52700dac28e",
   "metadata": {
    "tags": []
   },
   "outputs": [],
   "source": [
    "count = 0;\n",
    "for index, row in data.iterrows():\n",
    "    valid = True\n",
    "    \n",
    "    for amino in row['Sequence']:\n",
    "        if (amino not in amino_acids):\n",
    "            valid = False\n",
    "            break\n",
    "            \n",
    "    if not valid:       \n",
    "        data.drop(index, inplace=True)\n",
    "        count += 1\n",
    "        \n",
    "print(f'{count} data dropped')\n",
    "    "
   ]
  },
  {
   "cell_type": "code",
   "execution_count": null,
   "id": "cf00dd68-5f79-4714-8dbd-9a53f080b379",
   "metadata": {},
   "outputs": [],
   "source": []
  },
  {
   "cell_type": "code",
   "execution_count": null,
   "id": "6dbec313-a046-45f2-95c6-7127f3d2860c",
   "metadata": {},
   "outputs": [],
   "source": [
    "get_List_of_Families()"
   ]
  },
  {
   "cell_type": "code",
   "execution_count": null,
   "id": "024de65b-91e1-4dc7-b941-f055f455d52b",
   "metadata": {},
   "outputs": [],
   "source": [
    "for index, row in data.iterrows():\n",
    "    \n",
    "    if (row['family_name'] == 'Complex I subunit 1 family' \n",
    "        or row['family_name'] == 'Complex I subunit 4 family'\n",
    "        or row['family_name'] == 'Complex I subunit 5 family'):\n",
    "            row['family_name'] = 'Complex I family'\n",
    "    \n",
    "    if (row['family_name'] == 'Cytochrome c oxidase subunit 2 family' \n",
    "        or row['family_name'] == 'Cytochrome c oxidase subunit 3 family'):\n",
    "            row['family_name'] = 'Cytochrome c oxidase family'\n",
    "        \n",
    "    if (row['family_name'] == 'G-protein coupled receptor 1 family' \n",
    "        or row['family_name'] == 'G-protein coupled receptor 2 family'):\n",
    "            row['family_name'] = 'G-protein coupled family'\n",
    "    \n",
    "    if (row['family_name'] == 'MHC class I family' \n",
    "        or row['family_name'] == 'MHC class II family'):\n",
    "            row['family_name'] = 'MHC family'\n",
    "        \n",
    "\n",
    "get_List_of_Families()"
   ]
  },
  {
   "cell_type": "code",
   "execution_count": null,
   "id": "74733a92-1f6d-41ef-99f3-ba513ffc8944",
   "metadata": {},
   "outputs": [],
   "source": [
    "\n"
   ]
  },
  {
   "cell_type": "code",
   "execution_count": null,
   "id": "7cbd1d97-7162-4424-8a7e-8276dc247870",
   "metadata": {},
   "outputs": [],
   "source": [
    "noisy_families = []\n",
    "families = get_List_of_Families()\n",
    "\n",
    "for index, row in families.iterrows():\n",
    "    if row['#sequences'] < 80 or row['#sequences'] > 2000:\n",
    "        noisy_families.append(row['family_name'])\n",
    "    \n",
    "noisy_families"
   ]
  },
  {
   "cell_type": "code",
   "execution_count": null,
   "id": "4ce1d874-b62c-4bfa-8766-6076a8d7df2b",
   "metadata": {},
   "outputs": [],
   "source": []
  },
  {
   "cell_type": "code",
   "execution_count": null,
   "id": "f0517f45-69a5-4e6b-bafc-6d97d49ddd89",
   "metadata": {},
   "outputs": [],
   "source": [
    "for index, row in data.iterrows():\n",
    "    if row['family_name'] in noisy_families:\n",
    "        data.drop(index, inplace=True)\n",
    "        \n",
    "get_List_of_Families()"
   ]
  },
  {
   "cell_type": "code",
   "execution_count": null,
   "id": "5b0bc2a4-c1bd-4c13-907b-a66cbeb25ad5",
   "metadata": {},
   "outputs": [],
   "source": [
    "print ('Viewing Database Information:\\n\\n')\n",
    "data.info()\n",
    "\n",
    "print ('\\n\\n\\n\\nViewing Database Description\\n\\n')\n",
    "data.describe()"
   ]
  },
  {
   "cell_type": "code",
   "execution_count": null,
   "id": "f396986e-b3e9-40e5-8fd5-27c0d85f8d34",
   "metadata": {},
   "outputs": [],
   "source": []
  },
  {
   "cell_type": "code",
   "execution_count": null,
   "id": "6d74b59b-ee43-46eb-b225-722fe61ab76a",
   "metadata": {},
   "outputs": [],
   "source": [
    "properties = {\n",
    "    'Tag' : amino_acids,\n",
    "    \n",
    "    'Protein_Name': ['Alanine', 'Cysteine', 'Aspartic Acid', 'Glutamic Acid', \n",
    "                     'Phenylalanine', 'Glycine', 'Histidine', 'Isoleucine', \n",
    "                     'Lysine', 'Leucine', 'Methionine', 'Asparagine', \n",
    "                     'Proline', 'Glutamine', 'Arginine', 'Serine', \n",
    "                     'Threonine', 'Valine', 'Tryptophan', 'Tyrosine'],\n",
    "    \n",
    "    'Molecular_Weight': [89.1, 121.16, 133.11, 147.13, 165.19, \n",
    "                         75.07, 155.16, 131.18, 146.19, 131.18, \n",
    "                         149.21, 132.12, 115.13, 146.15, 174.2,\n",
    "                         105.09, 119.12, 117.15, 204.23, 181.19],\n",
    "    \n",
    "    'IsoElectric_Point': [6, 5.07, 2.77, 3.22, 5.48,\n",
    "                          5.97, 7.59, 6.02, 9.74, 5.98,\n",
    "                          5.74, 5.41, 6.3, 5.65, 10.76, \n",
    "                          5.68, 5.6, 5.96, 5.89, 5.66],\n",
    "    \n",
    "    'Hydropathy_Property': ['Hydrophobic', 'Hydrophobic', 'Hydrophilic', 'Neutral', \n",
    "                            'Very Hydrophobic', 'Neutral', 'Hydrophilic', 'Very Hydrophobic', \n",
    "                            'Hydrophilic', 'Very Hydrophobic', 'Very Hydrophobic', 'Neutral', \n",
    "                            'Hydrophilic', 'Neutral', 'Hydrophilic', 'Neutral', \n",
    "                            'Neutral', 'Very Hydrophobic', 'Very Hydrophobic', 'Hydrophobic']\n",
    "    }\n",
    "\n",
    "\n",
    "properties = pd.DataFrame(properties)\n",
    "\n",
    "properties\n"
   ]
  },
  {
   "cell_type": "code",
   "execution_count": null,
   "id": "3b2a88d2-c49b-4277-9c6b-7b6e9384e20e",
   "metadata": {},
   "outputs": [],
   "source": []
  },
  {
   "cell_type": "code",
   "execution_count": null,
   "id": "63ba6959-6805-4d88-aa34-d7373a190ac2",
   "metadata": {
    "tags": []
   },
   "outputs": [],
   "source": [
    "cols = ['family_name' , 'Sequence']\n",
    "for amino in amino_acids:\n",
    "    cols.append(amino)\n",
    "\n",
    "data = pd.DataFrame(data, columns = cols)\n",
    "labels = [col for col in data]\n"
   ]
  },
  {
   "cell_type": "code",
   "execution_count": null,
   "id": "9f7041c1-fd4e-46e3-89ac-be45ff4c1aad",
   "metadata": {},
   "outputs": [],
   "source": []
  },
  {
   "cell_type": "code",
   "execution_count": null,
   "id": "c17450da-1443-4717-9612-8720911b79af",
   "metadata": {
    "tags": []
   },
   "outputs": [],
   "source": [
    "\n",
    "for index, row in data.iterrows():\n",
    "    freq_count = get_Frequencies(row['Sequence']);\n",
    "    list = [row['family_name'], row['Sequence']]\n",
    "    \n",
    "    for amino in labels[2:]:\n",
    "        list.append(freq_count[amino])\n",
    "    \n",
    "    data.loc[index] = list\n",
    "    \n",
    "data.head()\n",
    "    "
   ]
  },
  {
   "cell_type": "code",
   "execution_count": null,
   "id": "159570fa-4366-4cce-80ee-aafbedda2e64",
   "metadata": {},
   "outputs": [],
   "source": []
  },
  {
   "cell_type": "code",
   "execution_count": null,
   "id": "0f12366a-a624-433c-8ee5-2933aeae4641",
   "metadata": {},
   "outputs": [],
   "source": [
    "list_PAMW = []\n",
    "list_PAIW = []\n",
    "\n",
    "for index, row in data.iterrows():\n",
    "    pos_MW = 0\n",
    "    pos_IW = 0\n",
    "    pos = 0\n",
    "    \n",
    "    for amino in row['Sequence']:\n",
    "        pos += 1\n",
    "        \n",
    "        pos_MW += properties.loc[properties['Tag'] == amino]['Molecular_Weight'].values * pos\n",
    "        pos_IW += properties.loc[properties['Tag'] == amino]['IsoElectric_Point'].values * pos\n",
    "\n",
    "    list_PAMW.append(pos_MW/len(row['Sequence']))\n",
    "    list_PAIW.append(pos_IW/len(row['Sequence']))\n",
    "   \n"
   ]
  },
  {
   "cell_type": "code",
   "execution_count": null,
   "id": "6921dd8e-d0de-4c1d-936e-6c68819527ed",
   "metadata": {},
   "outputs": [],
   "source": []
  }
 ],
 "metadata": {
  "kernelspec": {
   "display_name": "Python 3 (ipykernel)",
   "language": "python",
   "name": "python3"
  },
  "language_info": {
   "codemirror_mode": {
    "name": "ipython",
    "version": 3
   },
   "file_extension": ".py",
   "mimetype": "text/x-python",
   "name": "python",
   "nbconvert_exporter": "python",
   "pygments_lexer": "ipython3",
   "version": "3.8.8"
  }
 },
 "nbformat": 4,
 "nbformat_minor": 5
}
