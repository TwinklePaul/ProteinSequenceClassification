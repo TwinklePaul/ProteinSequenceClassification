{
 "cells": [
  {
   "cell_type": "code",
   "execution_count": null,
   "id": "97883010-4d55-4789-8266-48783aa3c02f",
   "metadata": {},
   "outputs": [],
   "source": []
  },
  {
   "cell_type": "code",
   "execution_count": 1,
   "id": "73590bfa-1daf-4d6a-82b3-bd6135e7a491",
   "metadata": {},
   "outputs": [],
   "source": [
    "def get_List_of_Families():\n",
    "    families = data.groupby(['family_name']).agg(['nunique']).reset_index(drop=False)\n",
    "    families.columns = ['family_name', '#sequences']\n",
    "    return families"
   ]
  },
  {
   "cell_type": "code",
   "execution_count": null,
   "id": "64a3b0f5-1b93-45bc-8dee-27b5b1238113",
   "metadata": {},
   "outputs": [],
   "source": []
  },
  {
   "cell_type": "code",
   "execution_count": null,
   "id": "ed7417f1-10e5-43fc-8515-1f5669328f3b",
   "metadata": {},
   "outputs": [],
   "source": []
  },
  {
   "cell_type": "code",
   "execution_count": 2,
   "id": "20fdb5c9-ee6b-4903-8317-25c28e6e4534",
   "metadata": {},
   "outputs": [],
   "source": [
    "def get_Frequencies(sequence):\n",
    "    count_freq = {}\n",
    "    \n",
    "    for amino in amino_acids:\n",
    "        count_freq[amino] = 0\n",
    "    \n",
    "    for amino in sequence:\n",
    "        count_freq[amino] += 1\n",
    "    \n",
    "    return count_freq"
   ]
  },
  {
   "cell_type": "code",
   "execution_count": null,
   "id": "0f35026c-5c68-4eb9-a71b-252bc15ec932",
   "metadata": {},
   "outputs": [],
   "source": []
  }
 ],
 "metadata": {
  "kernelspec": {
   "display_name": "Python [conda env:root] *",
   "language": "python",
   "name": "conda-root-py"
  },
  "language_info": {
   "codemirror_mode": {
    "name": "ipython",
    "version": 3
   },
   "file_extension": ".py",
   "mimetype": "text/x-python",
   "name": "python",
   "nbconvert_exporter": "python",
   "pygments_lexer": "ipython3",
   "version": "3.8.8"
  }
 },
 "nbformat": 4,
 "nbformat_minor": 5
}
